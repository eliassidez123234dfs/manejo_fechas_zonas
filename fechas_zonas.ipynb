{
  "nbformat": 4,
  "nbformat_minor": 0,
  "metadata": {
    "colab": {
      "provenance": [],
      "authorship_tag": "ABX9TyPGrNiQfyaEgSIeq+FPAONt",
      "include_colab_link": true
    },
    "kernelspec": {
      "name": "python3",
      "display_name": "Python 3"
    },
    "language_info": {
      "name": "python"
    }
  },
  "cells": [
    {
      "cell_type": "markdown",
      "metadata": {
        "id": "view-in-github",
        "colab_type": "text"
      },
      "source": [
        "<a href=\"https://colab.research.google.com/github/eliassidez123234dfs/manejo_fechas_zonas/blob/main/fechas_zonas.ipynb\" target=\"_parent\"><img src=\"https://colab.research.google.com/assets/colab-badge.svg\" alt=\"Open In Colab\"/></a>"
      ]
    },
    {
      "cell_type": "code",
      "execution_count": null,
      "metadata": {
        "id": "H4JOgcK2oKkE"
      },
      "outputs": [],
      "source": [
        "from datetime import datetime as dt\n",
        "from zoneinfo import ZoneInfo\n",
        "\n",
        "# DATE HANDLING EXAMPLE\n",
        "# This script demonstrates how to work with dates and times\n",
        "# using Python's datetime module and time zones.\n",
        "# 'dt' is used here as an alias for 'datetime'.\n",
        "\n",
        "# Get the current local date and time\n",
        "current_datetime = dt.now()\n",
        "print(f\"Current local date and time: {current_datetime}\")\n",
        "\n",
        "# Get the current date and time for a specific time zone\n",
        "bogota_timezone = ZoneInfo(\"America/Bogota\")        # Time zone object for Bogotá\n",
        "current_bogota_datetime = dt.now(bogota_timezone)   # Get current datetime with time zone info\n",
        "\n",
        "# Formatting options:\n",
        "# %Y = Year (4 digits), %m = Month (2 digits), %d = Day (2 digits)\n",
        "# %H = Hour (24-hour format), %M = Minutes, %S = Seconds\n",
        "print(f\"Bogotá date and time: {current_bogota_datetime.strftime('%Y-%m-%d %H:%M:%S')}\")\n",
        "print()\n",
        "\n",
        "# More advanced formatting:\n",
        "# %A = Full weekday name, %d = Day of month (2 digits)\n",
        "# %B = Full month name, %Y = Year (4 digits)\n",
        "print(f\"Today is: {current_datetime.strftime('%A - %d of %B, %Y')}\")"
      ]
    }
  ]
}