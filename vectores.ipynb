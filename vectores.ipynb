{
  "nbformat": 4,
  "nbformat_minor": 0,
  "metadata": {
    "colab": {
      "provenance": [],
      "authorship_tag": "ABX9TyNlWV0WWk/aubvYosRynNyq",
      "include_colab_link": true
    },
    "kernelspec": {
      "name": "python3",
      "display_name": "Python 3"
    },
    "language_info": {
      "name": "python"
    }
  },
  "cells": [
    {
      "cell_type": "markdown",
      "metadata": {
        "id": "view-in-github",
        "colab_type": "text"
      },
      "source": [
        "<a href=\"https://colab.research.google.com/github/eliassidez123234dfs/manejo_fechas_zonas/blob/main/vectores.ipynb\" target=\"_parent\"><img src=\"https://colab.research.google.com/assets/colab-badge.svg\" alt=\"Open In Colab\"/></a>"
      ]
    },
    {
      "cell_type": "code",
      "execution_count": null,
      "metadata": {
        "colab": {
          "base_uri": "https://localhost:8080/"
        },
        "id": "u9jsk6YZzSSl",
        "outputId": "383cbd97-1e89-4cca-cfdc-b6e56aff9cb5"
      },
      "outputs": [
        {
          "output_type": "stream",
          "name": "stdout",
          "text": [
            "\u001b[31m el vector de ceros [0. 0. 0. 0. 0.]\n",
            "\u001b[32m el vector de unos [1. 1. 1. 1. 1.]\n",
            "\u001b[33m el vector aleatorio [13 26 16 15 88]\n"
          ]
        }
      ],
      "source": [
        "# importamos numpy y abreviamos con np\n",
        "import numpy as np\n",
        "\n",
        "#vector para ceros\n",
        "vector1 = np.zeros(5)\n",
        "print(f\"\\033[31m el vector de ceros {vector1}\")\n",
        "\n",
        "# Vector por unos\n",
        "vector2 = np.ones(5)\n",
        "print(f\"\\033[32m el vector de unos {vector2}\")\n",
        "\n",
        "# Vector con valores aleatorios\n",
        "vector3 = np.random.randint(1,100,5) #Numeros enteros\n",
        "print(f\"\\033[33m el vector aleatorio {vector3}\")\n",
        "\n",
        "#Vector"
      ]
    },
    {
      "cell_type": "code",
      "source": [
        "# Import del modulo numpy\n",
        "import numpy as np\n",
        "\n",
        "# Operaciones matematicas con vectores\n",
        "\n",
        "vector1 = np.random.randint(1,100,5)\n",
        "print(f\"\\033[32m vector numero 1 {vector1}\")\n",
        "\n",
        "vector2 = np.random.randint(1,100,5)\n",
        "print(f\"\\033[33m vector numero 2 {vector2}\")\n",
        "\n",
        "vector3 = np.random.randint(1,100,5)\n",
        "print(f\"\\033[34m vector numero 3 {vector3}\")\n",
        "\n",
        "vector4 = np.random.randint(1,100,5)\n",
        "print(f\"\\033[35m vector numero 4 {vector4}\")\n",
        "\n",
        "print()\n",
        "\n",
        "print(\"--- Suma de vectores --- \")\n",
        "# suma de vectores 1 y 2\n",
        "suma_vectores = vector1 + vector2\n",
        "print(f\"el reultado de los primeros dos vectores es de {suma_vectores}\")\n",
        "\n",
        "# suma de vectores 3 y 4\n",
        "suma_vectores = vector3 + vector4\n",
        "print(f\"EL resultado del vector 3 y del 4 {suma_vectores}\")\n",
        "\n",
        "# Suma de vectores de la antiguedad ciclo para\n",
        "for indice in range(len(suma_vectores)):\n",
        "  suma_vectores[indice] = vector1[indice] + vector2[indice]\n",
        "print(f\"\\033[36m suma en un recorrido de vectores {suma_vectores}\")\n",
        "\n",
        "# ordenar el vector #5\n",
        "suma_vectores.sort()\n",
        "print(f\"\\033[37m vector numero cinco {suma_vectores}\")\n",
        "\n",
        "# Sumar todos los elementos que tiene el vector3\n",
        "suma = 0\n",
        "for indice in range(len(vector3)):\n",
        "  suma = suma + vector3[indice]\n",
        "print(f\"\\033[38m suma de vectores vector3 {suma}\")\n",
        "\n",
        "\"\"\" Tabla de operaciones en vectores \"\"\"\n",
        "# Otra forma es:\n",
        "\n"
      ],
      "metadata": {
        "id": "850pWYlCDj0l",
        "colab": {
          "base_uri": "https://localhost:8080/",
          "height": 232
        },
        "outputId": "4a91d420-c563-4d08-dc3a-5a091e0a2c76"
      },
      "execution_count": null,
      "outputs": [
        {
          "output_type": "stream",
          "name": "stdout",
          "text": [
            "\u001b[32m vector numero 1 [68 82 74 53 93]\n",
            "\u001b[33m vector numero 2 [25 52 36  5 35]\n",
            "\u001b[34m vector numero 3 [44 41 15 88 72]\n",
            "\u001b[35m vector numero 4 [51 95 25 39 26]\n",
            "\n",
            "--- Suma de vectores --- \n",
            "el reultado de los primeros dos vectores es de [ 93 134 110  58 128]\n",
            "EL resultado del vector 3 y del 4 [ 95 136  40 127  98]\n",
            "\u001b[36m suma en un recorrido de vectores [ 93 134 110  58 128]\n",
            "\u001b[37m vector numero cinco [ 58  93 110 128 134]\n",
            "\u001b[38m suma de vectores vector3 260\n"
          ]
        },
        {
          "output_type": "execute_result",
          "data": {
            "text/plain": [
              "' Tabla de operaciones en vectores '"
            ],
            "application/vnd.google.colaboratory.intrinsic+json": {
              "type": "string"
            }
          },
          "metadata": {},
          "execution_count": 1
        }
      ]
    }
  ]
}